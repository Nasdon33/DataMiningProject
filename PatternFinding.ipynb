{
 "cells": [
  {
   "cell_type": "code",
   "execution_count": 88,
   "metadata": {},
   "outputs": [],
   "source": [
    "import pandas as pd\n",
    "import numpy  as np\n",
    "import re                              # Used for splitting the Items with multiple delimiters\n",
    "from   collections import Counter      # To count items in dictionaries\n",
    "from   itertools   import combinations # To generate combinations of items\n",
    "\n",
    "# The dataset was created with the notebook \"DatasetCreation.ipynb\".\n",
    "\n",
    "routes = pd.read_csv('route_trips.csv', \n",
    "                     delimiter = ',', \n",
    "                     encoding  = 'utf-8')\n",
    "\n",
    "routes.drop(routes.columns[0], \n",
    "            axis    = 1, \n",
    "            inplace = True)"
   ]
  },
  {
   "cell_type": "code",
   "execution_count": 89,
   "metadata": {},
   "outputs": [],
   "source": [
    "# Prepare the delimiters for splitting the items\n",
    "delimiters   = \",\", \"{\", \"}\", \"'\"\n",
    "regexPattern = '|'.join(map(re.escape, delimiters))"
   ]
  },
  {
   "cell_type": "code",
   "execution_count": 90,
   "metadata": {},
   "outputs": [],
   "source": [
    "# Produce a new column for the Items\n",
    "newItemsColumn = []\n",
    "for index in range(0, len(routes)):\n",
    "    tmp = list(filter(None, re.split(regexPattern, routes.Items[index])))\n",
    "    newItemsColumn.append([item for item in tmp \n",
    "                                   if item.strip()])\n",
    "routes.Items = newItemsColumn"
   ]
  },
  {
   "cell_type": "code",
   "execution_count": 91,
   "metadata": {},
   "outputs": [],
   "source": [
    "# Set the threshold for the support of Frequent itemset theory\n",
    "support = 15\n",
    "items   = []\n",
    "items   = [item for items in routes.Items \n",
    "                   for item in items]\n",
    "\n",
    "# Count the occurrencies of each item in the whole dataset\n",
    "# (\"items\" now contains a list of all the products for each trip)\n",
    "itemCount = Counter(items)\n",
    "\n",
    "# Select only those items that appear more than the support\n",
    "frequentItems = [item for item in itemCount \n",
    "                         if itemCount[item] >= support]\n",
    "\n",
    "#len(frequentItems)"
   ]
  },
  {
   "cell_type": "code",
   "execution_count": 92,
   "metadata": {},
   "outputs": [],
   "source": [
    "# Now we remove from the Items those that are not frequentItems\n",
    "routes.Items = [list(filter(lambda i: i in frequentItems, items)) for items in routes.Items]"
   ]
  },
  {
   "cell_type": "code",
   "execution_count": 93,
   "metadata": {},
   "outputs": [],
   "source": [
    "# Here we generate combinations of 2 frequent items \n",
    "combination   = [list(combinations(items, 2)) for items in routes.Items]\n",
    "comb          = [comb for combs in combination \n",
    "                         for comb in combs]"
   ]
  },
  {
   "cell_type": "code",
   "execution_count": 94,
   "metadata": {},
   "outputs": [],
   "source": [
    "# Count how many pairs there are for each combination\n",
    "pairCount     = Counter(comb)\n",
    "# and select only those that appear more than the support\n",
    "frequentPairs = [comb for comb in pairCount \n",
    "                         if pairCount[comb] >= support]"
   ]
  },
  {
   "cell_type": "code",
   "execution_count": 95,
   "metadata": {},
   "outputs": [],
   "source": [
    "# then sort them for next operations\n",
    "frequentPairs = [sorted(fp) for fp in frequentPairs]\n",
    "#frequentPairs"
   ]
  },
  {
   "cell_type": "code",
   "execution_count": 96,
   "metadata": {},
   "outputs": [],
   "source": [
    "# popularTuples will be our container for interesting objects. \n",
    "# Now we can find inside popular items and popular pairs but it is going to be extended.\n",
    "popularTuples = frequentItems\n",
    "popularTuples.extend(frequentPairs)\n",
    "\n",
    "#popularTuples"
   ]
  },
  {
   "cell_type": "code",
   "execution_count": 97,
   "metadata": {},
   "outputs": [],
   "source": [
    "def matches(rid, order, popularTuples):\n",
    "    itemList   = []\n",
    "    orderItems = routes.Items[(routes.RouteId == rid) & \n",
    "                              (routes.Order   == order)\n",
    "                             ].tolist()[0]\n",
    "    \n",
    "    for obj in popularTuples:\n",
    "        # If the object is a pair (so it is saved as list)\n",
    "        if isinstance(obj, list):\n",
    "            check = True\n",
    "            for item in obj:\n",
    "                if item not in orderItems:\n",
    "                    check = False\n",
    "            if check:\n",
    "                itemList.append(list(obj))\n",
    "        else:\n",
    "        # The other case now can be only a frequent item\n",
    "            if obj in orderItems:\n",
    "                itemList.append(obj)\n",
    "    return itemList\n",
    "    \n",
    "\n",
    "def nextTuple(rid, order, popularTuples):\n",
    "    # If the next does exist\n",
    "    if(not routes[(routes.RouteId == rid) & \n",
    "                  (routes.Order   == order)\n",
    "                 ].empty):\n",
    "        return matches(rid, order, popularTuples)\n",
    "    else:\n",
    "    # Otherwise return an empty list\n",
    "        return []\n",
    "\n",
    "def searchNext(tuple, popularTuples):\n",
    "    keys      = [(routes.RouteId[row], routes.Order[row]) \n",
    "                 for row in range(0, len(routes)) \n",
    "                     if tuple in routes.Items[row]]\n",
    "    newTuples = [nextTuple(key[0],     # the rid\n",
    "                           key[1] + 1, # the order\n",
    "                           popularTuples) \n",
    "                 for key in keys]\n",
    "    return newTuples"
   ]
  },
  {
   "cell_type": "code",
   "execution_count": 98,
   "metadata": {},
   "outputs": [],
   "source": [
    "popularPatterns = [(pop, searchNext(pop, popularTuples)) for pop in popularTuples]\n",
    "#popularPatterns"
   ]
  },
  {
   "cell_type": "code",
   "execution_count": 101,
   "metadata": {},
   "outputs": [
    {
     "data": {
      "text/plain": [
       "['Miels',\n",
       " 'Brussels-pate',\n",
       " 'Pesce-curado',\n",
       " 'White-coconut-chocolate',\n",
       " 'Green-kale',\n",
       " 'Banana-nut-loaf',\n",
       " 'Thes-verts',\n",
       " 'Baking',\n",
       " 'Gelati',\n",
       " 'Chia-seeds',\n",
       " 'Asian-grocery',\n",
       " 'Asian-food',\n",
       " 'Beef-mince',\n",
       " 'Redcurrant-tea',\n",
       " 'Dried-pasta',\n",
       " 'Frozen-spring-rolls',\n",
       " 'Groceries',\n",
       " 'Flour-tortillas',\n",
       " 'Snack-bar',\n",
       " 'Multivitamin-supplement',\n",
       " 'Mint-jellies',\n",
       " 'Faux-fromage',\n",
       " 'Pineapple-slices-in-juice',\n",
       " 'Pringles-potato-chips',\n",
       " 'Choux-farcis',\n",
       " 'Malt-vinegar',\n",
       " 'Sugar-cane-drink',\n",
       " 'Venison',\n",
       " 'Easter-buns',\n",
       " 'Garlic-mashed-potatoes',\n",
       " 'Fresh-juices',\n",
       " 'Green-salads',\n",
       " 'Conservation',\n",
       " 'Beer-batter-fries',\n",
       " 'Pastrami',\n",
       " 'Kartoffelchips',\n",
       " 'Multiseeded-sliced-bread',\n",
       " 'Pitta-breads',\n",
       " 'Toppings',\n",
       " 'Fecules',\n",
       " 'Cream-of-tartar',\n",
       " 'Cous-cous',\n",
       " 'Indian-sauces',\n",
       " 'Prepackaged-sandwiches',\n",
       " 'Spice-red-pepper',\n",
       " 'Schwarztees',\n",
       " 'Concombres',\n",
       " 'Sliced-beetroot',\n",
       " 'Crema-spalmabile',\n",
       " 'Artisan products',\n",
       " 'Gateau-chinois',\n",
       " 'Sparkling-mineral-waters',\n",
       " 'Balsamic-vinaigrette-dressing',\n",
       " 'Water-crackers',\n",
       " 'Mixed-nuts',\n",
       " 'Syrups',\n",
       " 'Frozen-chicken',\n",
       " 'Plastic-surgery',\n",
       " 'Produits-ssans-gluten',\n",
       " 'Carrot-cake',\n",
       " 'Chopeed-tomatoes',\n",
       " 'Coffee-cake',\n",
       " 'Tomkin-tomatoes',\n",
       " 'Gravy',\n",
       " 'Prosecco',\n",
       " 'Minced-lamb',\n",
       " 'Coleslaw-dressing',\n",
       " 'White-pitta-bread',\n",
       " 'Fresh-cabbage',\n",
       " 'Soeppoeder',\n",
       " 'Terrine',\n",
       " 'Noix-de-paprika',\n",
       " 'Chinese-cinnamon-sticks',\n",
       " 'Schokoladen',\n",
       " 'Produits-laitiers',\n",
       " 'Sweeteners',\n",
       " 'Fruit-cups',\n",
       " 'Profiteroles',\n",
       " 'Ciabatta',\n",
       " 'Sweetcorn-and-peas',\n",
       " 'Lime-marmalades',\n",
       " 'Cooking-oil',\n",
       " 'Turkey-burgers',\n",
       " 'Bbq-relish',\n",
       " 'Hoki-fish-fillets',\n",
       " 'Indian-food',\n",
       " 'Cayenne-pepper-sauce',\n",
       " 'Lingonberry-jams',\n",
       " 'Muffin-mix',\n",
       " 'Sandwichs',\n",
       " 'Beef-stroganoff',\n",
       " 'Coconut-cream',\n",
       " 'Chocolate-bunny',\n",
       " 'Orange-chocolate',\n",
       " 'Jus-d-orange',\n",
       " 'Dried-parmesan-cheese',\n",
       " 'Fruit-drinks',\n",
       " 'Frozen-snacks',\n",
       " 'Roasted-garlic',\n",
       " 'Kauwgom',\n",
       " 'Hamblokjes',\n",
       " 'Coconut-milk-powder',\n",
       " 'Fresh-lemons',\n",
       " 'Prepared-foods',\n",
       " 'Bhuja',\n",
       " 'Plats-prepares-surgeles',\n",
       " 'Oatcakes',\n",
       " 'Double-chocolate-milk',\n",
       " 'Milkshake',\n",
       " 'Saucisses-aux-lentilles',\n",
       " 'Manuka-honey',\n",
       " 'Instant-porridge',\n",
       " 'Dietary supplements',\n",
       " 'Bottled-still-water',\n",
       " 'Caramelized-red-onion-chutney',\n",
       " 'Semoules-de-ble-dur-pour-couscous',\n",
       " 'Tomato-ketchup',\n",
       " 'Hommus-dip',\n",
       " 'Baked-beans',\n",
       " 'Mackerel-fillets-in-sunflower-oil',\n",
       " 'Chilli-con-carne-sauce',\n",
       " 'Maris-piper-potatoes',\n",
       " 'Tuna-steaks',\n",
       " 'Hard-cooked-peeled-eggs',\n",
       " 'Fajitas',\n",
       " 'Cucumbers-in-brine',\n",
       " 'Liquid-honey',\n",
       " 'Elegance-tomatoes',\n",
       " 'Milk substitute',\n",
       " 'Jambons-blancs',\n",
       " 'Levures',\n",
       " 'Frozen-dumpling',\n",
       " 'Canned foods',\n",
       " 'Fusilli',\n",
       " 'Salad',\n",
       " 'Fish and meat and eggs',\n",
       " 'Fruit-salad',\n",
       " 'Gaufres',\n",
       " 'Ground-cinnamon',\n",
       " 'Chillies',\n",
       " 'Pannekoeken',\n",
       " 'White-plain-flour',\n",
       " 'Matzos',\n",
       " ['Coffee-cake', 'Frozen-snacks']]"
      ]
     },
     "execution_count": 101,
     "metadata": {},
     "output_type": "execute_result"
    }
   ],
   "source": [
    "popularTuples"
   ]
  },
  {
   "cell_type": "code",
   "execution_count": 58,
   "metadata": {},
   "outputs": [],
   "source": [
    "itemList = []\n",
    "for items in popularTuples:\n",
    "    if isinstance(items, list):\n",
    "        check = True\n",
    "        for item in items:\n",
    "            if item not in ['Milkshake', 'Strawberry-licorice']:\n",
    "                check = False\n",
    "        if check:\n",
    "            itemList.append(list(items))\n",
    "    else:\n",
    "        if items in ['Milkshake', 'Strawberry-licorice']:\n",
    "            itemList.append(items)"
   ]
  },
  {
   "cell_type": "code",
   "execution_count": 59,
   "metadata": {},
   "outputs": [
    {
     "data": {
      "text/plain": [
       "[]"
      ]
     },
     "execution_count": 59,
     "metadata": {},
     "output_type": "execute_result"
    }
   ],
   "source": [
    "itemList"
   ]
  },
  {
   "cell_type": "code",
   "execution_count": null,
   "metadata": {},
   "outputs": [],
   "source": [
    "isinstance(popularTuples[2], list)"
   ]
  },
  {
   "cell_type": "code",
   "execution_count": null,
   "metadata": {},
   "outputs": [],
   "source": [
    "[items for items in popularTuples \n",
    "             for item in items \n",
    "                 if ((item in ['Milkshake', 'Strawberry-licorice']) & \n",
    "                     (isinstance(items,list)))]"
   ]
  },
  {
   "cell_type": "code",
   "execution_count": null,
   "metadata": {},
   "outputs": [],
   "source": [
    "[item for item in popularTuples[203]]"
   ]
  },
  {
   "cell_type": "code",
   "execution_count": null,
   "metadata": {},
   "outputs": [],
   "source": [
    "set(routes.Items[183])"
   ]
  },
  {
   "cell_type": "code",
   "execution_count": null,
   "metadata": {},
   "outputs": [],
   "source": [
    "popularPatterns"
   ]
  },
  {
   "cell_type": "code",
   "execution_count": null,
   "metadata": {
    "scrolled": true
   },
   "outputs": [],
   "source": [
    "[(routes.RouteId[row], routes.Order[row]) for row in range(0,len(routes)) \n",
    "                                             if 'Milkshake' in routes.Items[row]]"
   ]
  },
  {
   "cell_type": "code",
   "execution_count": null,
   "metadata": {},
   "outputs": [],
   "source": []
  }
 ],
 "metadata": {
  "kernelspec": {
   "display_name": "Python 3",
   "language": "python",
   "name": "python3"
  },
  "language_info": {
   "codemirror_mode": {
    "name": "ipython",
    "version": 3
   },
   "file_extension": ".py",
   "mimetype": "text/x-python",
   "name": "python",
   "nbconvert_exporter": "python",
   "pygments_lexer": "ipython3",
   "version": "3.7.1"
  }
 },
 "nbformat": 4,
 "nbformat_minor": 2
}
